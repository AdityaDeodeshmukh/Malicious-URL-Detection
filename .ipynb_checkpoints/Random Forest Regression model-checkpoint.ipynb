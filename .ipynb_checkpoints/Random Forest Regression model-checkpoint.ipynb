{
 "cells": [
  {
   "cell_type": "code",
   "execution_count": 13,
   "id": "115e3742",
   "metadata": {},
   "outputs": [],
   "source": [
    "import pandas as pd\n",
    "import numpy as np\n",
    "import matplotlib.pyplot as plt "
   ]
  },
  {
   "cell_type": "code",
   "execution_count": 14,
   "id": "18fc9d6b",
   "metadata": {},
   "outputs": [],
   "source": [
    "ds = pd.read_csv('url_features.csv')"
   ]
  },
  {
   "cell_type": "code",
   "execution_count": 15,
   "id": "35127bc8",
   "metadata": {},
   "outputs": [
    {
     "name": "stdout",
     "output_type": "stream",
     "text": [
      "The shape of our dataset is: (651191, 17)\n"
     ]
    }
   ],
   "source": [
    "print('The shape of our dataset is:', ds.shape)"
   ]
  },
  {
   "cell_type": "code",
   "execution_count": 16,
   "id": "df5e7788",
   "metadata": {},
   "outputs": [
    {
     "data": {
      "text/html": [
       "<div>\n",
       "<style scoped>\n",
       "    .dataframe tbody tr th:only-of-type {\n",
       "        vertical-align: middle;\n",
       "    }\n",
       "\n",
       "    .dataframe tbody tr th {\n",
       "        vertical-align: top;\n",
       "    }\n",
       "\n",
       "    .dataframe thead th {\n",
       "        text-align: right;\n",
       "    }\n",
       "</style>\n",
       "<table border=\"1\" class=\"dataframe\">\n",
       "  <thead>\n",
       "    <tr style=\"text-align: right;\">\n",
       "      <th></th>\n",
       "      <th>Unnamed: 0</th>\n",
       "      <th>Unnamed: 0.1</th>\n",
       "      <th>url_length</th>\n",
       "      <th>Digits_to_char_ratio</th>\n",
       "      <th>Lcase_to_char_ratio</th>\n",
       "      <th>No_of_parameters</th>\n",
       "      <th>Url_entropy</th>\n",
       "      <th>Path_length</th>\n",
       "      <th>Host_length</th>\n",
       "      <th>No_of_fragments</th>\n",
       "      <th>No_of_Subdomains</th>\n",
       "      <th>sus_url</th>\n",
       "      <th>count-digits</th>\n",
       "      <th>count-letters</th>\n",
       "    </tr>\n",
       "  </thead>\n",
       "  <tbody>\n",
       "    <tr>\n",
       "      <th>count</th>\n",
       "      <td>651191.000000</td>\n",
       "      <td>651191.000000</td>\n",
       "      <td>651191.000000</td>\n",
       "      <td>651191.000000</td>\n",
       "      <td>651191.000000</td>\n",
       "      <td>651191.000000</td>\n",
       "      <td>651191.000000</td>\n",
       "      <td>651191.000000</td>\n",
       "      <td>651191.000000</td>\n",
       "      <td>651191.000000</td>\n",
       "      <td>651191.000000</td>\n",
       "      <td>651191.000000</td>\n",
       "      <td>651191.000000</td>\n",
       "      <td>651191.000000</td>\n",
       "    </tr>\n",
       "    <tr>\n",
       "      <th>mean</th>\n",
       "      <td>325595.000000</td>\n",
       "      <td>325595.000000</td>\n",
       "      <td>60.156831</td>\n",
       "      <td>0.072662</td>\n",
       "      <td>0.747027</td>\n",
       "      <td>0.380497</td>\n",
       "      <td>-4.218435</td>\n",
       "      <td>41.153288</td>\n",
       "      <td>5.023088</td>\n",
       "      <td>0.000871</td>\n",
       "      <td>2.345403</td>\n",
       "      <td>0.066606</td>\n",
       "      <td>5.527409</td>\n",
       "      <td>45.247104</td>\n",
       "    </tr>\n",
       "    <tr>\n",
       "      <th>std</th>\n",
       "      <td>187982.793908</td>\n",
       "      <td>187982.793908</td>\n",
       "      <td>44.753902</td>\n",
       "      <td>0.101703</td>\n",
       "      <td>0.143224</td>\n",
       "      <td>1.224169</td>\n",
       "      <td>0.415609</td>\n",
       "      <td>29.770598</td>\n",
       "      <td>8.911953</td>\n",
       "      <td>0.032327</td>\n",
       "      <td>1.618860</td>\n",
       "      <td>0.249338</td>\n",
       "      <td>11.700814</td>\n",
       "      <td>31.624502</td>\n",
       "    </tr>\n",
       "    <tr>\n",
       "      <th>min</th>\n",
       "      <td>0.000000</td>\n",
       "      <td>0.000000</td>\n",
       "      <td>1.000000</td>\n",
       "      <td>0.000000</td>\n",
       "      <td>0.000000</td>\n",
       "      <td>0.000000</td>\n",
       "      <td>-7.504113</td>\n",
       "      <td>0.000000</td>\n",
       "      <td>0.000000</td>\n",
       "      <td>0.000000</td>\n",
       "      <td>0.000000</td>\n",
       "      <td>0.000000</td>\n",
       "      <td>0.000000</td>\n",
       "      <td>0.000000</td>\n",
       "    </tr>\n",
       "    <tr>\n",
       "      <th>25%</th>\n",
       "      <td>162797.500000</td>\n",
       "      <td>162797.500000</td>\n",
       "      <td>32.000000</td>\n",
       "      <td>0.000000</td>\n",
       "      <td>0.696970</td>\n",
       "      <td>0.000000</td>\n",
       "      <td>-4.495558</td>\n",
       "      <td>21.000000</td>\n",
       "      <td>0.000000</td>\n",
       "      <td>0.000000</td>\n",
       "      <td>1.000000</td>\n",
       "      <td>0.000000</td>\n",
       "      <td>0.000000</td>\n",
       "      <td>25.000000</td>\n",
       "    </tr>\n",
       "    <tr>\n",
       "      <th>50%</th>\n",
       "      <td>325595.000000</td>\n",
       "      <td>325595.000000</td>\n",
       "      <td>47.000000</td>\n",
       "      <td>0.032258</td>\n",
       "      <td>0.777778</td>\n",
       "      <td>0.000000</td>\n",
       "      <td>-4.227567</td>\n",
       "      <td>35.000000</td>\n",
       "      <td>0.000000</td>\n",
       "      <td>0.000000</td>\n",
       "      <td>2.000000</td>\n",
       "      <td>0.000000</td>\n",
       "      <td>2.000000</td>\n",
       "      <td>37.000000</td>\n",
       "    </tr>\n",
       "    <tr>\n",
       "      <th>75%</th>\n",
       "      <td>488392.500000</td>\n",
       "      <td>488392.500000</td>\n",
       "      <td>77.000000</td>\n",
       "      <td>0.107143</td>\n",
       "      <td>0.843137</td>\n",
       "      <td>0.000000</td>\n",
       "      <td>-3.958591</td>\n",
       "      <td>53.000000</td>\n",
       "      <td>11.000000</td>\n",
       "      <td>0.000000</td>\n",
       "      <td>3.000000</td>\n",
       "      <td>0.000000</td>\n",
       "      <td>7.000000</td>\n",
       "      <td>58.000000</td>\n",
       "    </tr>\n",
       "    <tr>\n",
       "      <th>max</th>\n",
       "      <td>651190.000000</td>\n",
       "      <td>651190.000000</td>\n",
       "      <td>2175.000000</td>\n",
       "      <td>0.800000</td>\n",
       "      <td>0.984368</td>\n",
       "      <td>50.000000</td>\n",
       "      <td>0.000000</td>\n",
       "      <td>2175.000000</td>\n",
       "      <td>236.000000</td>\n",
       "      <td>6.000000</td>\n",
       "      <td>39.000000</td>\n",
       "      <td>1.000000</td>\n",
       "      <td>1204.000000</td>\n",
       "      <td>2141.000000</td>\n",
       "    </tr>\n",
       "  </tbody>\n",
       "</table>\n",
       "</div>"
      ],
      "text/plain": [
       "          Unnamed: 0   Unnamed: 0.1     url_length  Digits_to_char_ratio  \\\n",
       "count  651191.000000  651191.000000  651191.000000         651191.000000   \n",
       "mean   325595.000000  325595.000000      60.156831              0.072662   \n",
       "std    187982.793908  187982.793908      44.753902              0.101703   \n",
       "min         0.000000       0.000000       1.000000              0.000000   \n",
       "25%    162797.500000  162797.500000      32.000000              0.000000   \n",
       "50%    325595.000000  325595.000000      47.000000              0.032258   \n",
       "75%    488392.500000  488392.500000      77.000000              0.107143   \n",
       "max    651190.000000  651190.000000    2175.000000              0.800000   \n",
       "\n",
       "       Lcase_to_char_ratio  No_of_parameters    Url_entropy    Path_length  \\\n",
       "count        651191.000000     651191.000000  651191.000000  651191.000000   \n",
       "mean              0.747027          0.380497      -4.218435      41.153288   \n",
       "std               0.143224          1.224169       0.415609      29.770598   \n",
       "min               0.000000          0.000000      -7.504113       0.000000   \n",
       "25%               0.696970          0.000000      -4.495558      21.000000   \n",
       "50%               0.777778          0.000000      -4.227567      35.000000   \n",
       "75%               0.843137          0.000000      -3.958591      53.000000   \n",
       "max               0.984368         50.000000       0.000000    2175.000000   \n",
       "\n",
       "         Host_length  No_of_fragments  No_of_Subdomains        sus_url  \\\n",
       "count  651191.000000    651191.000000     651191.000000  651191.000000   \n",
       "mean        5.023088         0.000871          2.345403       0.066606   \n",
       "std         8.911953         0.032327          1.618860       0.249338   \n",
       "min         0.000000         0.000000          0.000000       0.000000   \n",
       "25%         0.000000         0.000000          1.000000       0.000000   \n",
       "50%         0.000000         0.000000          2.000000       0.000000   \n",
       "75%        11.000000         0.000000          3.000000       0.000000   \n",
       "max       236.000000         6.000000         39.000000       1.000000   \n",
       "\n",
       "        count-digits  count-letters  \n",
       "count  651191.000000  651191.000000  \n",
       "mean        5.527409      45.247104  \n",
       "std        11.700814      31.624502  \n",
       "min         0.000000       0.000000  \n",
       "25%         0.000000      25.000000  \n",
       "50%         2.000000      37.000000  \n",
       "75%         7.000000      58.000000  \n",
       "max      1204.000000    2141.000000  "
      ]
     },
     "execution_count": 16,
     "metadata": {},
     "output_type": "execute_result"
    }
   ],
   "source": [
    "ds.describe()"
   ]
  },
  {
   "cell_type": "code",
   "execution_count": 24,
   "id": "1532d0c2",
   "metadata": {},
   "outputs": [
    {
     "name": "stdout",
     "output_type": "stream",
     "text": [
      "(651191, 1)\n",
      "(651191,)\n"
     ]
    }
   ],
   "source": [
    "X = ds.iloc[:, 0:1].values \n",
    "y = ds.iloc[:, 1].values\n",
    "print(X.shape)\n",
    "print(y.shape)"
   ]
  },
  {
   "cell_type": "code",
   "execution_count": 19,
   "id": "f287b130",
   "metadata": {},
   "outputs": [],
   "source": [
    "#Splitting the Dataset into Training and Test Dataset\n",
    "from sklearn.model_selection import train_test_split\n",
    "X_train, X_test, y_train, y_test = train_test_split(X, y, test_size=0.3, random_state=0)"
   ]
  },
  {
   "cell_type": "code",
   "execution_count": 20,
   "id": "25bb6457",
   "metadata": {},
   "outputs": [
    {
     "data": {
      "text/plain": [
       "RandomForestRegressor(n_estimators=500, random_state=0)"
      ]
     },
     "execution_count": 20,
     "metadata": {},
     "output_type": "execute_result"
    }
   ],
   "source": [
    "#Import the Random Forest Regressor \n",
    "from sklearn.ensemble import RandomForestRegressor   \n",
    "  \n",
    "RFReg = RandomForestRegressor(n_estimators = 500, random_state = 0)\n",
    "  \n",
    "#Fitting the random forest regressor with training data represented by X_train and y_train\n",
    "RFReg.fit(X_train, y_train)"
   ]
  },
  {
   "cell_type": "code",
   "execution_count": 21,
   "id": "16d89136",
   "metadata": {},
   "outputs": [
    {
     "name": "stdout",
     "output_type": "stream",
     "text": [
      "R-Square Error associated with Random Forest Regression is: 0.9999999999847377\n"
     ]
    }
   ],
   "source": [
    "y_predict_rfr = RFReg.predict((X_test))\n",
    "\n",
    "#Model Evaluation using R-Square for Random Forest Regression\n",
    "from sklearn import metrics\n",
    "r_square = metrics.r2_score(y_test, y_predict_rfr)\n",
    "print('R-Square Error associated with Random Forest Regression is:', r_square)"
   ]
  },
  {
   "cell_type": "code",
   "execution_count": 22,
   "id": "c645221f",
   "metadata": {},
   "outputs": [
    {
     "data": {
      "image/png": "[encoded data removed]",
      "text/plain": [
       "<Figure size 432x288 with 1 Axes>"
      ]
     },
     "metadata": {
      "needs_background": "light"
     },
     "output_type": "display_data"
    },
    {
     "data": {
      "text/plain": [
       "<Figure size 72x72 with 0 Axes>"
      ]
     },
     "metadata": {},
     "output_type": "display_data"
    }
   ],
   "source": [
    "X_val = np.arange(min(X_train), max(X_train), 0.01) \n",
    "X_val = X_val.reshape((len(X_val), 1))  \n",
    "  \n",
    "#Defining a scatter plot for training data \n",
    "plt.scatter(X_train, y_train, color = 'blue') \n",
    "  \n",
    "#Plotting the predicted data \n",
    "plt.plot(X_val, RFReg.predict(X_val), color = 'red')  \n",
    "  \n",
    "#Set the size of the plot for better clarity\n",
    "plt.figure(figsize=(1,1))\n",
    "  \n",
    "#Draw the plot \n",
    "plt.show() "
   ]
  },
  {
   "cell_type": "code",
   "execution_count": null,
   "id": "a6c5a7c7",
   "metadata": {},
   "outputs": [],
   "source": []
  }
 ],
 "metadata": {
  "kernelspec": {
   "display_name": "Python 3",
   "language": "python",
   "name": "python3"
  },
  "language_info": {
   "codemirror_mode": {
    "name": "ipython",
    "version": 3
   },
   "file_extension": ".py",
   "mimetype": "text/x-python",
   "name": "python",
   "nbconvert_exporter": "python",
   "pygments_lexer": "ipython3",
   "version": "3.8.8"
  }
 },
 "nbformat": 4,
 "nbformat_minor": 5
}
