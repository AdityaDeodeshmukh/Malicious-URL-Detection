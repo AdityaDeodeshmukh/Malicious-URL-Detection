{
 "cells": [
  {
   "cell_type": "code",
   "execution_count": 1,
   "id": "8920b3a6",
   "metadata": {},
   "outputs": [],
   "source": [
    "import pandas as pd\n",
    "import itertools\n",
    "from sklearn.metrics import mean_squared_error,confusion_matrix, precision_score, recall_score, auc,roc_curve\n",
    "from sklearn.model_selection import train_test_split\n",
    "import pandas as pd\n",
    "import numpy as np\n",
    "import random\n",
    "import math\n",
    "from collections import Counter\n",
    "from sklearn import metrics\n",
    "import matplotlib.pyplot as plt\n",
    "from sklearn.metrics import classification_report,confusion_matrix,accuracy_score\n",
    "import os\n",
    "for dirname, _, filenames in os.walk('/kaggle/input'):\n",
    "    for filename in filenames:\n",
    "        print(os.path.join(dirname, filename))\n",
    "\n",
    "import socket\n",
    "from datetime import datetime\n",
    "import time\n",
    "from bs4 import BeautifulSoup\n",
    "import urllib\n",
    "import bs4"
   ]
  },
  {
   "cell_type": "code",
   "execution_count": 2,
   "id": "df66c390",
   "metadata": {},
   "outputs": [],
   "source": [
    "dataset=pd.read_csv(\"malicious_url.csv\")"
   ]
  },
  {
   "cell_type": "code",
   "execution_count": 3,
   "id": "29b07af5",
   "metadata": {},
   "outputs": [
    {
     "data": {
      "text/html": [
       "<div>\n",
       "<style scoped>\n",
       "    .dataframe tbody tr th:only-of-type {\n",
       "        vertical-align: middle;\n",
       "    }\n",
       "\n",
       "    .dataframe tbody tr th {\n",
       "        vertical-align: top;\n",
       "    }\n",
       "\n",
       "    .dataframe thead th {\n",
       "        text-align: right;\n",
       "    }\n",
       "</style>\n",
       "<table border=\"1\" class=\"dataframe\">\n",
       "  <thead>\n",
       "    <tr style=\"text-align: right;\">\n",
       "      <th></th>\n",
       "      <th>Unnamed: 0</th>\n",
       "      <th>url</th>\n",
       "      <th>type</th>\n",
       "      <th>url_length</th>\n",
       "    </tr>\n",
       "  </thead>\n",
       "  <tbody>\n",
       "    <tr>\n",
       "      <th>0</th>\n",
       "      <td>0</td>\n",
       "      <td>br-icloud.com.br</td>\n",
       "      <td>phishing</td>\n",
       "      <td>16</td>\n",
       "    </tr>\n",
       "    <tr>\n",
       "      <th>1</th>\n",
       "      <td>1</td>\n",
       "      <td>mp3raid.com/music/krizz_kaliko.html</td>\n",
       "      <td>benign</td>\n",
       "      <td>35</td>\n",
       "    </tr>\n",
       "    <tr>\n",
       "      <th>2</th>\n",
       "      <td>2</td>\n",
       "      <td>bopsecrets.org/rexroth/cr/1.htm</td>\n",
       "      <td>benign</td>\n",
       "      <td>31</td>\n",
       "    </tr>\n",
       "    <tr>\n",
       "      <th>3</th>\n",
       "      <td>3</td>\n",
       "      <td>http://www.garage-pirenne.be/index.php?option=...</td>\n",
       "      <td>defacement</td>\n",
       "      <td>88</td>\n",
       "    </tr>\n",
       "    <tr>\n",
       "      <th>4</th>\n",
       "      <td>4</td>\n",
       "      <td>http://adventure-nicaragua.net/index.php?optio...</td>\n",
       "      <td>defacement</td>\n",
       "      <td>235</td>\n",
       "    </tr>\n",
       "  </tbody>\n",
       "</table>\n",
       "</div>"
      ],
      "text/plain": [
       "   Unnamed: 0                                                url        type  \\\n",
       "0           0                                   br-icloud.com.br    phishing   \n",
       "1           1                mp3raid.com/music/krizz_kaliko.html      benign   \n",
       "2           2                    bopsecrets.org/rexroth/cr/1.htm      benign   \n",
       "3           3  http://www.garage-pirenne.be/index.php?option=...  defacement   \n",
       "4           4  http://adventure-nicaragua.net/index.php?optio...  defacement   \n",
       "\n",
       "   url_length  \n",
       "0          16  \n",
       "1          35  \n",
       "2          31  \n",
       "3          88  \n",
       "4         235  "
      ]
     },
     "execution_count": 3,
     "metadata": {},
     "output_type": "execute_result"
    }
   ],
   "source": [
    "dataset.head()"
   ]
  },
  {
   "cell_type": "code",
   "execution_count": 4,
   "id": "f29f5a82",
   "metadata": {},
   "outputs": [],
   "source": [
    "def D_C_ratio(url):\n",
    "    count_numbers= sum(item.isdigit() for item in url)\n",
    "    Char_len=len(url)\n",
    "    r = count_numbers/Char_len\n",
    "    return(r)"
   ]
  },
  {
   "cell_type": "code",
   "execution_count": 5,
   "id": "9aaad19a",
   "metadata": {},
   "outputs": [],
   "source": [
    "dataset['Digits_to_char_ratio'] = dataset['url'].apply(D_C_ratio)"
   ]
  },
  {
   "cell_type": "code",
   "execution_count": 6,
   "id": "75ffb0af",
   "metadata": {},
   "outputs": [],
   "source": [
    "def L_C_ratio(url):\n",
    "    Lowercase= sum(item.islower() for item in url)\n",
    "    length=len(url)\n",
    "    ratio = Lowercase/length\n",
    "    return(ratio)"
   ]
  },
  {
   "cell_type": "code",
   "execution_count": 7,
   "id": "5f10b795",
   "metadata": {},
   "outputs": [],
   "source": [
    "dataset['Lcase_to_char_ratio'] = dataset['url'].apply(L_C_ratio)"
   ]
  },
  {
   "cell_type": "code",
   "execution_count": 8,
   "id": "7cb67167",
   "metadata": {},
   "outputs": [],
   "source": [
    "def No_of_param(url):\n",
    "    param =url.split('&')\n",
    "    return len(param)-1"
   ]
  },
  {
   "cell_type": "code",
   "execution_count": 9,
   "id": "d209237e",
   "metadata": {},
   "outputs": [],
   "source": [
    "dataset['No_of_parameters'] = dataset['url'].apply(No_of_param)"
   ]
  },
  {
   "cell_type": "code",
   "execution_count": 10,
   "id": "79891b92",
   "metadata": {},
   "outputs": [],
   "source": [
    "import math \n",
    "def url_entropy(url):\n",
    "    s= url.strip()\n",
    "    prob= [float(s.count(c))/len(s)for c in dict.fromkeys(list(s))]\n",
    "    entropy= sum([(p * math.log(p)/ math.log(2.0))for p in prob])\n",
    "    return entropy"
   ]
  },
  {
   "cell_type": "code",
   "execution_count": 11,
   "id": "f050c145",
   "metadata": {},
   "outputs": [],
   "source": [
    "dataset['Url_entropy'] = dataset['url'].apply(url_entropy)"
   ]
  },
  {
   "cell_type": "code",
   "execution_count": 12,
   "id": "091c8ff3",
   "metadata": {},
   "outputs": [],
   "source": [
    "def has_http(url):\n",
    "    return 'http:' in url"
   ]
  },
  {
   "cell_type": "code",
   "execution_count": 13,
   "id": "c296f979",
   "metadata": {},
   "outputs": [],
   "source": [
    "dataset['Has_http'] = dataset['url'].apply(has_http)"
   ]
  },
  {
   "cell_type": "code",
   "execution_count": 14,
   "id": "138ef933",
   "metadata": {},
   "outputs": [],
   "source": [
    "from urllib.parse import urlparse\n",
    "def path_len(url):\n",
    "    return len(urlparse(url).path)"
   ]
  },
  {
   "cell_type": "code",
   "execution_count": 15,
   "id": "3c10a758",
   "metadata": {},
   "outputs": [],
   "source": [
    "dataset['Path_length'] = dataset['url'].apply(path_len)"
   ]
  },
  {
   "cell_type": "code",
   "execution_count": 16,
   "id": "ea907994",
   "metadata": {},
   "outputs": [],
   "source": [
    "from urllib.parse import urlparse\n",
    "def host_len(url):\n",
    "    return len(urlparse(url).netloc)"
   ]
  },
  {
   "cell_type": "code",
   "execution_count": 17,
   "id": "fc383473",
   "metadata": {},
   "outputs": [],
   "source": [
    "dataset['Host_length'] = dataset['url'].apply(host_len)"
   ]
  },
  {
   "cell_type": "code",
   "execution_count": 18,
   "id": "e1fafc35",
   "metadata": {},
   "outputs": [],
   "source": [
    "def no_of_frags(url):\n",
    "    frags=url.split('#')\n",
    "    return len(frags)-1"
   ]
  },
  {
   "cell_type": "code",
   "execution_count": 19,
   "id": "f7a81932",
   "metadata": {},
   "outputs": [],
   "source": [
    "dataset['No_of_fragments'] = dataset['url'].apply(no_of_frags)"
   ]
  },
  {
   "cell_type": "code",
   "execution_count": 20,
   "id": "4257c732",
   "metadata": {},
   "outputs": [],
   "source": [
    "def no_of_subdomains(url):\n",
    "    sd=url.split('http')[-1].split('//')[-1].split('/')\n",
    "    return len(sd)-1"
   ]
  },
  {
   "cell_type": "code",
   "execution_count": 21,
   "id": "915d34f8",
   "metadata": {},
   "outputs": [],
   "source": [
    "dataset['No_of_Subdomains'] = dataset['url'].apply(no_of_subdomains)"
   ]
  },
  {
   "cell_type": "code",
   "execution_count": 23,
   "id": "af77c46a",
   "metadata": {},
   "outputs": [],
   "source": [
    "import re\n",
    "def suspicious_words(url):\n",
    "    match = re.search('PayPal|login|signin|bank|account|update|free|lucky|service|bonus|ebayisapi|webscr',\n",
    "                      url)\n",
    "    if match:\n",
    "        return 1\n",
    "    else:\n",
    "        return 0\n",
    "dataset['sus_url'] = dataset['url'].apply(lambda i: suspicious_words(i))"
   ]
  },
  {
   "cell_type": "code",
   "execution_count": 24,
   "id": "90bcc96b",
   "metadata": {},
   "outputs": [],
   "source": [
    "def digit_count(url):\n",
    "    digits = 0\n",
    "    for i in url:\n",
    "        if i.isnumeric():\n",
    "            digits = digits + 1\n",
    "    return digits\n",
    "dataset['count-digits']= dataset['url'].apply(lambda i: digit_count(i))"
   ]
  },
  {
   "cell_type": "code",
   "execution_count": 25,
   "id": "9e48f702",
   "metadata": {},
   "outputs": [],
   "source": [
    "def letter_count(url):\n",
    "    letters = 0\n",
    "    for i in url:\n",
    "        if i.isalpha():\n",
    "            letters = letters + 1\n",
    "    return letters\n",
    "dataset['count-letters']= dataset['url'].apply(lambda i: letter_count(i))"
   ]
  },
  {
   "cell_type": "code",
   "execution_count": null,
   "id": "352502c8",
   "metadata": {},
   "outputs": [],
   "source": []
  }
 ],
 "metadata": {
  "kernelspec": {
   "display_name": "Python 3",
   "language": "python",
   "name": "python3"
  },
  "language_info": {
   "codemirror_mode": {
    "name": "ipython",
    "version": 3
   },
   "file_extension": ".py",
   "mimetype": "text/x-python",
   "name": "python",
   "nbconvert_exporter": "python",
   "pygments_lexer": "ipython3",
   "version": "3.8.8"
  }
 },
 "nbformat": 4,
 "nbformat_minor": 5
}
