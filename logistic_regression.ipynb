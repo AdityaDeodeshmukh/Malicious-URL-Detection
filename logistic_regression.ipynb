{
 "cells": [
  {
   "cell_type": "code",
   "execution_count": 3,
   "id": "6b37f517",
   "metadata": {},
   "outputs": [],
   "source": [
    "import pandas as pd\n",
    "import numpy as np\n",
    "from sklearn.datasets import load_iris\n",
    "from sklearn.linear_model import LogisticRegression\n",
    "dataset=pd.read_csv(\"malicious_phish.csv\")\n"
   ]
  },
  {
   "cell_type": "code",
   "execution_count": 5,
   "id": "a3a54ded",
   "metadata": {},
   "outputs": [],
   "source": [
    "def urldata(url):\n",
    "    x = urldata[['hostname_length',\n",
    "                 'path_length', 'fd_length', 'tld_length', 'count-', 'count@', 'count?',\n",
    "                 'count%', 'count.', 'count=', 'count-http','count-https', 'count-www', 'count-digits',\n",
    "                 'count-letters', 'count_dir', 'use_of_ip']]"
   ]
  },
  {
   "cell_type": "code",
   "execution_count": 6,
   "id": "c9ece0d8",
   "metadata": {},
   "outputs": [],
   "source": [
    "def urldata(url):\n",
    "    y = urldata['result']\n",
    "    "
   ]
  },
  {
   "cell_type": "code",
   "execution_count": 7,
   "id": "55486c43",
   "metadata": {},
   "outputs": [],
   "source": [
    "def urldata(url):\n",
    "    x.shape"
   ]
  },
  {
   "cell_type": "code",
   "execution_count": 8,
   "id": "7a177cfb",
   "metadata": {},
   "outputs": [],
   "source": [
    "def urldata(url):\n",
    "    y.shape"
   ]
  },
  {
   "cell_type": "code",
   "execution_count": 9,
   "id": "8185f541",
   "metadata": {},
   "outputs": [],
   "source": [
    "def urldata(url):\n",
    "    x_train, x_test, y_train, y_test = train_test_split(x, y, train_size=0.3, random_state=42)"
   ]
  },
  {
   "cell_type": "code",
   "execution_count": 13,
   "id": "00e42428",
   "metadata": {},
   "outputs": [],
   "source": [
    "def urldata(url):\n",
    "    log_model = LogisticRegression()\n",
    "    log_model.fit(x_train,y_train)\n",
    "    log_predictions = log_model.predict(x_test)\n",
    "    accuracy_score(y_test,log_predictions)"
   ]
  },
  {
   "cell_type": "code",
   "execution_count": 14,
   "id": "5720d572",
   "metadata": {},
   "outputs": [],
   "source": [
    "def confusion_matrix(url):\n",
    "    print(confusion_matrix(y_test,log_predictions))"
   ]
  },
  {
   "cell_type": "code",
   "execution_count": null,
   "id": "ac1e2249",
   "metadata": {},
   "outputs": [],
   "source": []
  }
 ],
 "metadata": {
  "kernelspec": {
   "display_name": "Python 3",
   "language": "python",
   "name": "python3"
  },
  "language_info": {
   "codemirror_mode": {
    "name": "ipython",
    "version": 3
   },
   "file_extension": ".py",
   "mimetype": "text/x-python",
   "name": "python",
   "nbconvert_exporter": "python",
   "pygments_lexer": "ipython3",
   "version": "3.8.8"
  }
 },
 "nbformat": 4,
 "nbformat_minor": 5
}
